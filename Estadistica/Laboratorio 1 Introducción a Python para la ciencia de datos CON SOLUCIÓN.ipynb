{
 "cells": [
  {
   "cell_type": "markdown",
   "id": "b5a98cb4",
   "metadata": {},
   "source": [
    "# Laboratorio 1: Introducción a Python para la ciencia de datos"
   ]
  },
  {
   "cell_type": "markdown",
   "id": "19b638fe",
   "metadata": {},
   "source": [
    "\n",
    "Este documento sirve como una introducción básica a **Python** para el análisis de datos. A lo largo de esta primera sesión, aprenderemos conceptos básicos de Python y nos familiarizaremos con herramientas esenciales para la ciencia de datos. Este será nuestro primer paso para trabajar con datos utilizando Python.\n"
   ]
  },
  {
   "cell_type": "markdown",
   "id": "046ccc74",
   "metadata": {},
   "source": [
    "\n",
    "## ¿Qué es Python?\n",
    "\n",
    "Python es un lenguaje de programación de alto nivel, interpretado y de propósito general. Es ampliamente utilizado en ciencia de datos debido a su simplicidad y la gran cantidad de librerías disponibles para manipular, analizar y visualizar datos. Python se ha convertido en una de las principales herramientas en ciencia de datos debido a su capacidad para procesar y analizar grandes volúmenes de información de manera eficiente. Su popularidad ha crecido notablemente en los últimos años, superando a otros lenguajes como R en plataformas especializadas. Python destaca por su facilidad de uso, con una sintaxis clara y su enfoque en resolver problemas sin preocuparse por detalles técnicos. Además, cuenta con potentes bibliotecas como NumPy, Pandas, y herramientas de machine learning como scikit-learn y TensorFlow. Su versatilidad, adaptabilidad a diferentes formatos de datos y una comunidad activa que sigue desarrollando nuevas herramientas, lo hacen ideal para profesionales del análisis y visualización de datos.\n",
    " "
   ]
  },
  {
   "cell_type": "markdown",
   "id": "c5d7cbff",
   "metadata": {},
   "source": [
    "\n",
    "## ¿Qué es Jupyter Notebook?\n",
    "\n",
    "**Jupyter Notebook** es una herramienta interactiva que permite crear y compartir documentos que contienen código, texto, visualizaciones y ecuaciones matemáticas. Es muy popular entre científicos de datos por su facilidad para integrar código y resultados en un mismo documento. Jupyter Notebook es una de las herramientas más usadas en ciencia de datos. Esta plataforma permite realizar diversas tareas, desde la preparación y limpieza de datos hasta la modelización y presentación de resultados. Su versatilidad la convierte en una herramienta útil en todas las etapas del análisis de datos.\n",
    "\n",
    "### ¿Por qué usar Jupyter Notebook en ciencia de datos?\n",
    "- Permite escribir y ejecutar código de Python directamente en el navegador.\n",
    "- Facilita la experimentación interactiva y la presentación de resultados.\n",
    "- Es ideal para documentar el proceso de análisis de datos.\n",
    "\n"
   ]
  },
  {
   "cell_type": "markdown",
   "id": "a9de9480",
   "metadata": {},
   "source": [
    "\n",
    "## Instalación de bibliotecas\n",
    "\n",
    "En Python, el término *biblioteca* o *librería* es más comúnmente utilizado para referirse a colecciones de módulos y herramientas que permiten realizar tareas específicas, como el manejo de datos numéricos, manipulación y análisis de datos estructurados, o la creación de gráficos y visualizaciones, entre muchas otras opciones. Aunque a veces se pueden llamar *paquetes*, el término más habitual es bibliotecas.\n",
    "\n",
    "Durante estas sesiones de laboratorio, utilizaremos algunas de las bibliotecas más populares en el análisis de datos. Las principales que exploraremos son:\n",
    "\n",
    "1. **NumPy**: Para el manejo eficiente datos numéricos y operaciones matemáticas.\n",
    "2. **Pandas**: Para la manipulación y análisis de datos estructurados a través de DataFrames.\n",
    "3. **Matplotlib**: Para la visualización de datos.\n",
    "\n",
    "Para instalar estas librerías puedes utilizar `pip`, el gestor de paquetes de Python. Por ejemplo, para instalar **NumPy**:\n",
    "```bash\n",
    "!pip install numpy\n",
    "```\n",
    "Este mismo comando se puede usar para instalar **Pandas** y **Matplotlib**.\n"
   ]
  },
  {
   "cell_type": "markdown",
   "id": "243f47fb",
   "metadata": {},
   "source": [
    "## Tipos de datos básicos en Python\n",
    "\n",
    "En Python los datos pueden ser de diferentes tipos según su naturaleza. Los principales tipos de datos son:\n",
    "\n",
    "- Integer: Tipo de dato para números enteros, ya sean positivos o negativos.\n",
    "- Float: Tipo de dato para números con precisión decimal, pueden ser negativos o positivos.\n",
    "- String: Tipo de dato para cadena de texto con caracteres alfanuméricos\n",
    "- Boolean: Tipo de dato que solo puede tener dos valores, True (Verdadero) o False (Falso).\n",
    "\n",
    "La función `type()` regresa el tipo de dato de una variable o valor"
   ]
  },
  {
   "cell_type": "code",
   "execution_count": null,
   "id": "17ce9e8f",
   "metadata": {},
   "outputs": [],
   "source": [
    "\n",
    "# Entero (int)\n",
    "x = 5\n",
    "print(type(x))\n",
    "\n",
    "# Número de punto flotante (float)\n",
    "y = 5.0\n",
    "print(type(y))\n",
    "\n",
    "# Cadena de texto (string)\n",
    "z = \"Hola\"\n",
    "print(type(z))\n",
    "\n",
    "# Datos de tipo booleano:\n",
    "w = True\n",
    "print(type(w))\n"
   ]
  },
  {
   "cell_type": "markdown",
   "id": "aa642bec",
   "metadata": {},
   "source": [
    "## Listas\n",
    "\n",
    "Las **listas** en Python son colecciones ordenadas y mutables. A continuación, veremos cómo crear y manipular listas:\n"
   ]
  },
  {
   "cell_type": "code",
   "execution_count": null,
   "id": "73d14797",
   "metadata": {},
   "outputs": [],
   "source": [
    "\n",
    "# Crear una lista\n",
    "mi_lista = [1, 2, 3, 4, 5]\n",
    "print(mi_lista)\n",
    "\n",
    "# Agregar un elemento a la lista\n",
    "mi_lista.append(6)\n",
    "print(mi_lista)\n",
    "\n",
    "# Acceder a un elemento de la lista\n",
    "print(mi_lista[2])\n"
   ]
  },
  {
   "cell_type": "markdown",
   "id": "863622bf",
   "metadata": {},
   "source": [
    "## Variables y operadores\n",
    "\n",
    "En Python, las **variables** son nombres que se utilizan para almacenar datos. Pueden ser de diferentes tipos como enteros, flotantes, cadenas, etc. \n",
    "\n",
    "### Operadores básicos:\n",
    "- `+` : Suma\n",
    "- `-` : Resta\n",
    "- `*` : Multiplicación\n",
    "- `/` : División\n",
    "- `//` : División entera\n",
    "- `%` : Módulo (resto de la división)\n",
    "- `**` : Potencia\n",
    "\n",
    "Ejemplo de uso de variables y operadores:\n"
   ]
  },
  {
   "cell_type": "code",
   "execution_count": null,
   "id": "654f2435",
   "metadata": {},
   "outputs": [],
   "source": [
    "\n",
    "# Variables y operadores\n",
    "a = 10\n",
    "b = 3\n",
    "print(\"Suma:\", a + b)\n",
    "print(\"Resta:\", a - b)\n",
    "print(\"Multiplicación:\", a * b)\n",
    "print(\"División:\", a / b)\n",
    "print(\"División entera:\", a // b)\n",
    "print(\"Módulo:\", a % b)\n",
    "print(\"Potencia:\", a ** b)\n"
   ]
  },
  {
   "cell_type": "markdown",
   "id": "b9c79f6c",
   "metadata": {},
   "source": [
    "\n",
    "## Introducción a los DataFrames con Pandas\n",
    "\n",
    "Pandas es una librería poderosa para el análisis de datos. Su estructura más importante es el **DataFrame**, una tabla en la que cada columna puede tener diferentes tipos de datos (enteros, flotantes, cadenas, etc.).\n",
    "\n",
    "A continuación, veamos cómo crear un DataFrame y cómo manejarlo.\n"
   ]
  },
  {
   "cell_type": "code",
   "execution_count": null,
   "id": "0a2da0ca",
   "metadata": {},
   "outputs": [],
   "source": [
    "\n",
    "import pandas as pd\n",
    "\n",
    "# Crear un DataFrame básico\n",
    "data = {'Nombre': ['Ana', 'Luis', 'Pedro'],\n",
    "        'Edad': [23, 34, 29],\n",
    "        'Ciudad': ['Madrid', 'Barcelona', 'Valencia']}\n",
    "\n",
    "df = pd.DataFrame(data)\n",
    "print(df)\n"
   ]
  },
  {
   "cell_type": "markdown",
   "id": "90a0e0b4",
   "metadata": {},
   "source": [
    "## Condicionales en Python\n",
    "\n",
    "Las **estructuras condicionales** permiten ejecutar diferentes bloques de código dependiendo de si una condición es verdadera o falsa. El condicional más común es `if`.\n",
    "\n",
    "```python\n",
    "if condición:\n",
    "    # Hacer algo si la condición es verdadera\n",
    "else:\n",
    "    # Hacer algo si la condición es falsa\n",
    "```\n",
    "\n",
    "Ejemplo:\n"
   ]
  },
  {
   "cell_type": "code",
   "execution_count": null,
   "id": "4dbb3d25",
   "metadata": {},
   "outputs": [],
   "source": [
    "\n",
    "x = 15\n",
    "\n",
    "if x > 10:\n",
    "    print(\"x es mayor que 10\")\n",
    "else:\n",
    "    print(\"x es menor o igual a 10\")\n"
   ]
  },
  {
   "cell_type": "markdown",
   "id": "1fbc4e6c",
   "metadata": {},
   "source": [
    "## Importar datos desde un archivo\n",
    "\n",
    "Pandas permite importar datos desde varios formatos, como archivos CSV, Excel, y más. A continuación, un ejemplo de cómo importar un archivo CSV:\n"
   ]
  },
  {
   "cell_type": "code",
   "execution_count": null,
   "id": "b588d322",
   "metadata": {},
   "outputs": [],
   "source": [
    "\n",
    "df = pd.read_csv('archivo.csv')  \n",
    "print(df.head())  # Muestra las primeras filas del DataFrame\n"
   ]
  },
  {
   "cell_type": "markdown",
   "id": "80ea2707",
   "metadata": {},
   "source": [
    "## Bucles en Python\n",
    "\n",
    "Un **bucle** es una estructura que permite repetir un bloque de código varias veces. Los bucles más comunes son `for` y `while`.\n",
    "\n",
    "### Bucle `for`:\n",
    "Este bucle se utiliza para iterar sobre una secuencia (como una lista o un rango de números).\n",
    "\n",
    "Ejemplo:\n"
   ]
  },
  {
   "cell_type": "code",
   "execution_count": null,
   "id": "c089383e",
   "metadata": {},
   "outputs": [],
   "source": [
    "\n",
    "# Bucle for que imprime los números del 0 al 4\n",
    "for i in range(5):\n",
    "    print(i)\n"
   ]
  },
  {
   "cell_type": "markdown",
   "id": "f9e61afd",
   "metadata": {},
   "source": [
    "### Bucle `while`"
   ]
  },
  {
   "cell_type": "markdown",
   "id": "a9c4f454",
   "metadata": {},
   "source": [
    "\n",
    "El bucle `while` repite el bloque de código mientras la condición sea verdadera.\n",
    "\n",
    "Ejemplo:\n"
   ]
  },
  {
   "cell_type": "code",
   "execution_count": null,
   "id": "38f125ce",
   "metadata": {},
   "outputs": [],
   "source": [
    "\n",
    "# Bucle while que imprime números hasta que x sea 5\n",
    "x = 0\n",
    "while x < 5:\n",
    "    print(x)\n",
    "    x += 1  # Incrementar x en 1\n"
   ]
  },
  {
   "cell_type": "markdown",
   "id": "c7c3a24a",
   "metadata": {},
   "source": [
    "## Funciones en Python\n",
    "\n",
    "Las **funciones** permiten agrupar un conjunto de instrucciones para reutilizarlas más tarde. Se definen usando la palabra clave `def`.\n",
    "\n",
    "```python\n",
    "def nombre_funcion(argumentos):\n",
    "    # Cuerpo de la función\n",
    "    return resultado\n",
    "```\n",
    "\n",
    "Ejemplo:\n"
   ]
  },
  {
   "cell_type": "code",
   "execution_count": null,
   "id": "e1da4189",
   "metadata": {},
   "outputs": [],
   "source": [
    "\n",
    "# Definir una función que suma dos números\n",
    "def suma(a, b):\n",
    "    return a + b\n",
    "\n",
    "# Usar la función\n",
    "resultado = suma(3, 4)\n",
    "print(\"La suma es:\", resultado)\n"
   ]
  },
  {
   "cell_type": "markdown",
   "id": "df4013f2",
   "metadata": {},
   "source": [
    "## Ejercicios prácticos\n",
    "\n",
    "Estos ejercicios te permitirán poner en práctica los conceptos básicos de Python que hemos visto en el Laboratorio 1. Algunos ejercicios están relacionados con la Física para reforzar tu aprendizaje en ambas áreas.\n",
    "\n",
    "### Ejercicio 1: Cálculo de la energía cinética\n",
    "\n",
    "La fórmula para calcular la energía cinética $E_k$ de un objeto es:\n",
    "\n",
    "$$E_k = \\frac{1}{2}mv^2 $$\n",
    "\n",
    "Donde:\n",
    "- $ m $ es la masa del objeto (en kg).\n",
    "- $ v $ es la velocidad del objeto (en m/s).\n",
    "\n",
    "Escribe una función en Python llamada `energia_cinetica` que acepte la masa y la velocidad como parámetros, y que calcule y devuelva la energía cinética del objeto. Luego, utiliza esta función para calcular la energía cinética de un objeto de masa 75 kg y velocidad 20 m/s. Recuerda usar la fórmula anterior para el cálculo.\n",
    "\n",
    "### Ejercicio 2: Identificar números primos\n",
    "\n",
    "Escribe un programa en Python que haga lo siguiente:\n",
    "1. Crea una lista con los números del 1 al 50.\n",
    "2. Utiliza un bucle `for` para recorrer la lista e imprime cada número que sea primo.\n",
    "\n",
    "##### Sugerencia:\n",
    "Un número es primo si solo es divisible entre 1 y él mismo.\n",
    "\n",
    "### Ejercicio 3: Promedio de temperaturas diarias\n",
    "\n",
    "Un físico está estudiando las temperaturas diarias de una ciudad durante una semana. Las temperaturas (en grados Celsius) son las siguientes:\n",
    "\n",
    "\\[ 21.1, 22.3, 19.8, 23.5, 18.7, 21.0, 20.5 \\]\n",
    "\n",
    "Escribe un programa que haga lo siguiente:\n",
    "1. Crea una lista con las temperaturas diarias mencionadas.\n",
    "2. Calcula y muestra el promedio de las temperaturas.\n",
    "3. Identifica cuál fue la temperatura más alta y cuál fue la más baja durante la semana.\n",
    "\n",
    "##### Nota:\n",
    "\n",
    "Para resolver este ejercicio necesitas indagar en internet sobre algunas funciones básicas como \"suma\", \"máximo\", \"mínimo\" o \"tamaño\" de una lista."
   ]
  },
  {
   "cell_type": "markdown",
   "id": "f4c3c6bd",
   "metadata": {},
   "source": [
    "## Soluciones a los ejercicios\n",
    "\n",
    "### Solución del Ejercicio 1: Cálculo de la energía cinética"
   ]
  },
  {
   "cell_type": "code",
   "execution_count": null,
   "id": "f9c89fab",
   "metadata": {},
   "outputs": [],
   "source": [
    "# Función para calcular la energía cinética\n",
    "def energia_cinetica(masa, velocidad):\n",
    "    return 0.5 * masa * velocidad ** 2\n",
    "\n",
    "# Usamos la función con masa de 75 kg y velocidad de 20 m/s\n",
    "masa = 75  # kg\n",
    "velocidad = 20  # m/s\n",
    "energia = energia_cinetica(masa, velocidad)\n",
    "print(f\"Energía cinética: {energia}\")"
   ]
  },
  {
   "cell_type": "markdown",
   "id": "3d61bf38",
   "metadata": {},
   "source": [
    "### Solución del Ejercicio 2: Identificar números primos"
   ]
  },
  {
   "cell_type": "code",
   "execution_count": null,
   "id": "e58743d7",
   "metadata": {},
   "outputs": [],
   "source": [
    "# Función para verificar si un número es primo\n",
    "def es_primo(n):\n",
    "    if n < 2:\n",
    "        return False\n",
    "    for i in range(2, int(n**0.5) + 1):\n",
    "        if n % i == 0:\n",
    "            return False\n",
    "    return True\n",
    "\n",
    "# Crear lista de números del 1 al 50 e identificar los primos\n",
    "for numero in range(1, 51):\n",
    "    if es_primo(numero):\n",
    "        print(f\"{numero} es primo\")"
   ]
  },
  {
   "cell_type": "markdown",
   "id": "aa913a7c",
   "metadata": {},
   "source": [
    "### Solución del Ejercicio 3: Promedio de temperaturas diarias"
   ]
  },
  {
   "cell_type": "code",
   "execution_count": null,
   "id": "5e580229",
   "metadata": {},
   "outputs": [],
   "source": [
    "# Lista de temperaturas diarias\n",
    "temperaturas = [21.1, 22.3, 19.8, 23.5, 18.7, 21.0, 20.5]\n",
    "\n",
    "# Calcular el promedio\n",
    "promedio = sum(temperaturas) / len(temperaturas)\n",
    "print(f\"Promedio de temperaturas: {promedio:.2f} °C\")\n",
    "\n",
    "# Identificar la temperatura más alta y la más baja\n",
    "temperatura_max = max(temperaturas)\n",
    "temperatura_min = min(temperaturas)\n",
    "print(f\"Temperatura más alta: {temperatura_max} °C\")\n",
    "print(f\"Temperatura más baja: {temperatura_min} °C\")"
   ]
  }
 ],
 "metadata": {
  "language_info": {
   "name": "python"
  }
 },
 "nbformat": 4,
 "nbformat_minor": 5
}
