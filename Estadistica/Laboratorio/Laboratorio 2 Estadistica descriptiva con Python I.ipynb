{
 "cells": [
  {
   "cell_type": "markdown",
   "id": "0ad909d1",
   "metadata": {},
   "source": [
    "# Laboratorio 2: Estadística descriptiva con Python I"
   ]
  },
  {
   "cell_type": "markdown",
   "id": "1a624a30",
   "metadata": {},
   "source": [
    "\n",
    "En este laboratorio, aprenderemos los primeros comandos para realizar un **análisis descriptivo** de un conjunto de datos utilizando diferentes bibliotecas de Python. Para introducirnos en el análisis de datos comenzaremos introduciendo tres bibliotecas de debemos conocer:\n",
    "1. Pandas.\n",
    "2. NumPy.\n",
    "3. SciPy.\n",
    "4. Matplotlib."
   ]
  },
  {
   "cell_type": "markdown",
   "id": "c8c2c39e",
   "metadata": {},
   "source": [
    "### 1. Pandas\n",
    "\n",
    "Pandas es una biblioteca de Python muy popular y poderosa para la manipulación y análisis de datos, diseñada específicamente para trabajar con estructuras de datos como tablas y series temporales. Proporciona estructuras de datos de alto rendimiento y herramientas para facilitar la carga, manipulación, limpieza, análisis y almacenamiento de datos de manera eficiente.\n",
    "\n",
    "#### Componentes principales de Pandas:\n",
    "1. **Series**: Es una estructura unidimensional, similar a un array de NumPy, pero con la capacidad de etiquetar los datos mediante un índice. Cada elemento de una serie tiene un valor y una etiqueta asociada, lo que permite un acceso más flexible a los datos.\n",
    "\n",
    "2. **DataFrame**: Es la estructura de datos más importante en Pandas. Un DataFrame es una tabla bidimensional (similar a una hoja de cálculo) en la que cada columna puede contener diferentes tipos de datos (numéricos, cadenas, etc.). Cada fila y columna está etiquetada, lo que permite acceder a los datos mediante índices y realizar operaciones sobre ellos fácilmente.\n",
    "\n",
    "#### Funcionalidades clave de Pandas:\n",
    "- **Carga de datos**: Pandas permite cargar datos de varios formatos como CSV, Excel, SQL, JSON, etc.\n",
    "\n",
    "- **Manipulación de datos**: Puedes filtrar, agregar o transformar datos fácilmente. Pandas permite realizar operaciones comunes como eliminar valores nulos, reemplazar valores, cambiar el formato de datos, entre otros.\n",
    "\n",
    "- **Análisis de datos**: Pandas facilita la generación de estadísticas descriptivas y la manipulación de grandes cantidades de datos de forma eficiente. También incluye funciones para combinar, agrupar y agregar datos.\n",
    "\n",
    "- **Gráficos**: Pandas se integra con bibliotecas como Matplotlib para crear gráficos de forma rápida y sencilla.\n",
    "\n",
    "Pandas es una herramienta fundamental en el análisis de datos con Python, muy valorada por su simplicidad y potencia al trabajar con datos estructurados como tablas, lo que la convierte en una de las bibliotecas más utilizadas en ciencia de datos, finanzas, ingeniería y otros campos.\n",
    "\n",
    "Para instalar Pandas debemos ejecutar el siguiente comando:"
   ]
  },
  {
   "cell_type": "code",
   "execution_count": null,
   "id": "ecd3f3de",
   "metadata": {},
   "outputs": [],
   "source": [
    "pip install pandas"
   ]
  },
  {
   "cell_type": "markdown",
   "id": "ebed6ba1",
   "metadata": {},
   "source": [
    "### 2. NumPy\n",
    "\n",
    "NumPy es una biblioteca fundamental en Python para la computación numérica y científica. Su nombre proviene de \"Numerical Python\" y es ampliamente utilizada debido a su capacidad para manejar eficientemente grandes arreglos y matrices multidimensionales, así como para realizar operaciones matemáticas de alto rendimiento sobre estos datos.\n",
    "\n",
    "#### Componentes clave de NumPy:\n",
    "1. **Array o Arreglo N-dimensional** (`ndarray`): Es la estructura central de NumPy. Un arreglo es una estructura de datos que almacena elementos de manera ordenada en múltiples dimensiones. A diferencia de las listas de Python, los arreglos de NumPy son mucho más eficientes en términos de memoria y velocidad para cálculos matemáticos.\n",
    "\n",
    "2. **Operaciones elementales**: NumPy permite realizar operaciones matemáticas de manera vectorizada (operaciones entre arreglos) sin necesidad de escribir bucles, lo que es más rápido y eficiente.\n",
    "\n",
    "3. **Funciones matemáticas**: NumPy ofrece una amplia gama de funciones matemáticas como trigonometría, estadísticas, álgebra lineal, transformadas de Fourier, entre otras. Estas funciones son optimizadas para trabajar con arreglos grandes.\n",
    "\n",
    "#### Funcionalidades clave de NumPy:\n",
    "- **Manipulación de matrices y arreglos**: NumPy permite crear y manipular arreglos N-dimensionales de una manera eficiente, con métodos para redimensionar, cortar (slicing) y seleccionar elementos, así como transponer matrices.\n",
    "\n",
    "- **Álgebra lineal**: NumPy incluye herramientas para realizar operaciones matriciales avanzadas como la multiplicación de matrices, inversa de matrices, descomposiciones y cálculo de autovalores/autovectores.\n",
    "\n",
    "- **Generación de números aleatorios**: NumPy tiene un módulo para la generación de números aleatorios con distribuciones uniformes, normales, entre otras. Esto es útil para simulaciones y modelos probabilísticos.\n",
    "\n",
    "- **Manipulación de grandes volúmenes de datos**: La eficiencia de NumPy lo convierte en la elección ideal para realizar operaciones con grandes volúmenes de datos numéricos, gracias a su capacidad para almacenar datos de forma contigua en memoria y evitar bucles innecesarios.\n",
    "\n",
    "NumPy es la biblioteca base para cualquier tarea relacionada con datos numéricos en Python, desde el manejo de matrices y álgebra lineal hasta la generación de números aleatorios y operaciones matemáticas avanzadas. Su integración con otras bibliotecas como Pandas, SciPy y Matplotlib la convierte en una herramienta esencial en áreas como ciencia de datos, ingeniería, finanzas y más.\n",
    "\n",
    "Para instalar NumPy debemos ejecutar el siguiente comando:"
   ]
  },
  {
   "cell_type": "code",
   "execution_count": null,
   "id": "d81a2312",
   "metadata": {},
   "outputs": [],
   "source": [
    "pip install numpy"
   ]
  },
  {
   "cell_type": "markdown",
   "id": "9c534800",
   "metadata": {},
   "source": [
    "### 3. SciPy\n",
    "\n",
    "SciPy es una biblioteca de código abierto en Python utilizada para la computación científica y técnica. Está diseñada para complementar a NumPy, proporcionando una gran cantidad de funciones y herramientas avanzadas para resolver problemas matemáticos, científicos e ingenieriles. Mientras que NumPy ofrece capacidades básicas de manipulación de arrays y operaciones matemáticas, SciPy extiende esas capacidades con módulos especializados para tareas más complejas.\n",
    "\n",
    "Algunas de las áreas en las que SciPy se utiliza incluyen:\n",
    "\n",
    "1. **Álgebra lineal**: Resolución de sistemas de ecuaciones lineales, factorizaciones de matrices, cálculo de autovalores y autovectores.\n",
    "2. **Optimización**: Solución de problemas de optimización lineal y no lineal, incluidos métodos como la minimización de funciones.\n",
    "3. **Interpolación**: Creación de funciones continuas a partir de datos discretos, como interpolaciones cúbicas o spline.\n",
    "4. **Integración**: Cálculo numérico de integrales y derivadas.\n",
    "5. **Procesamiento de señales**: Filtrado, transformación de Fourier y análisis de señales.\n",
    "6. **Estadística**: Distribuciones probabilísticas, pruebas estadísticas y ajuste de modelos.\n",
    "7. **Ecuaciones diferenciales**: Solución numérica de ecuaciones diferenciales ordinarias (ODE).\n",
    "\n",
    "SciPy es una herramienta fundamental para quienes necesitan realizar cálculos matemáticos avanzados y análisis de datos en Python, y está ampliamente utilizada en áreas como la ingeniería, la física, la biología, la economía, y más.\n",
    "\n",
    "Para instalar SciPy debemos ejecutar el siguiente comando:"
   ]
  },
  {
   "cell_type": "code",
   "execution_count": null,
   "id": "a864e59a",
   "metadata": {},
   "outputs": [],
   "source": [
    "pip install scipy"
   ]
  },
  {
   "cell_type": "markdown",
   "id": "1c76db21",
   "metadata": {},
   "source": [
    "### 4. Matplotlib\n",
    "\n",
    "Matplotlib es una biblioteca de Python utilizada para crear gráficos y visualizaciones de datos de alta calidad. Es una de las herramientas más populares para la visualización en la comunidad científica y de análisis de datos, ya que permite generar gráficos de todo tipo de manera sencilla y personalizable. Además, se integra bien con otras bibliotecas populares como NumPy, SciPy y Pandas.\n",
    "\n",
    "### Características clave de Matplotlib:\n",
    "\n",
    "1. **Gráficos bidimensionales**: Matplotlib permite generar gráficos como:\n",
    "   - Gráficos de líneas (line plots)\n",
    "   - Gráficos de dispersión (scatter plots)\n",
    "   - Gráficos de barras (bar plots)\n",
    "   - Histogramas\n",
    "   - Gráficos de cajas y bigotes (box plots)\n",
    "\n",
    "2. **Subplots y diseño personalizado**: Puedes crear múltiples gráficos dentro de una misma figura y personalizar el diseño de las gráficas (colores, etiquetas, leyendas, tamaños, etc.). Esto es útil cuando necesitas mostrar varias visualizaciones en paralelo.\n",
    "\n",
    "3. **Interactividad**: Matplotlib admite gráficos interactivos, donde los usuarios pueden acercar, alejar y explorar diferentes partes de una gráfica. También se puede combinar con bibliotecas interactivas como `mpld3` o `plotly` para añadir aún más funcionalidad interactiva.\n",
    "\n",
    "4. **Compatibilidad con Jupyter Notebooks**: Matplotlib se integra de manera natural en los cuadernos de Jupyter, lo que facilita la visualización de gráficos directamente en los análisis de datos.\n",
    "\n",
    "Matplotlib está diseñado para ser compatible con la mayoría de las aplicaciones científicas. Sus gráficos personalizables y su integración con otras bibliotecas como NumPy y Pandas lo hacen ideal para científicos de datos, investigadores y desarrolladores que necesitan visualizaciones de alta calidad para analizar y presentar datos.\n",
    "\n",
    "Para instalar Matplotlib debemos ejecutar el siguiente comando:"
   ]
  },
  {
   "cell_type": "code",
   "execution_count": null,
   "id": "095af2a7",
   "metadata": {},
   "outputs": [],
   "source": [
    "pip install matplotlib"
   ]
  },
  {
   "cell_type": "markdown",
   "id": "023f08b1",
   "metadata": {},
   "source": [
    "## Análisis descriptivo con Python\n",
    "\n",
    "Vamos a comenzar introduciendo comandos básicos para realizar un analisis descriptivo de un conjunto de datos que tenemos en un DataFrame.\n",
    "\n",
    "### Medidas de centralidad de los datos\n",
    "\n",
    "Las medidas de centralidad nos indican valores representativos de los datos. Las más comunes son la **media** (promedio aritmético) y la **mediana** (valor que separa los datos en dos mitades).\n",
    "\n",
    "Para calcular la media y la mediana de un conjunto de datos almacenado en un DataFrame con Pandas, podemos usar las funciones `.mean()` y `.median()` respectivamente.\n",
    "\n",
    "##### Ejemplo"
   ]
  },
  {
   "cell_type": "code",
   "execution_count": null,
   "id": "83ad95fb",
   "metadata": {},
   "outputs": [],
   "source": [
    "\n",
    "import pandas as pd\n",
    "\n",
    "# Creamos un DataFrame de ejemplo con velocidades de partículas (en m/s)\n",
    "data = {'Velocidad (m/s)': [2.4, 2.8, 3.0, 3.1, 2.7, 2.5, 3.2, 2.9, 2.6, 3.0]}\n",
    "df = pd.DataFrame(data)\n",
    "\n",
    "# Cálculo de la media y mediana\n",
    "media = df['Velocidad (m/s)'].mean()\n",
    "mediana = df['Velocidad (m/s)'].median()\n",
    "\n",
    "print(f\"Media de las velocidades: {media:.2f} m/s\")\n",
    "print(f\"Mediana de las velocidades: {mediana:.2f} m/s\")\n"
   ]
  },
  {
   "cell_type": "markdown",
   "id": "fdea4d7e",
   "metadata": {},
   "source": [
    "### Medidas de posición de los datos\n",
    "\n",
    "Las medidas de posición, como los **cuartiles**, **deciles** y **percentiles**, nos permiten conocer la distribución relativa de los datos. Dividen los datos en partes iguales. Por ejemplo, los cuartiles dividen los datos en cuatro partes, los deciles en diez partes y los percentiles en cien partes.\n",
    "\n",
    "Para calcular cuartiles, deciles y percentiles en Pandas usamos el método `.quantile()`.\n",
    "\n",
    "##### Ejemplo (continuación)"
   ]
  },
  {
   "cell_type": "code",
   "execution_count": null,
   "id": "b6bccb94",
   "metadata": {},
   "outputs": [],
   "source": [
    "\n",
    "# Cálculo de cuartiles, percentiles y deciles\n",
    "cuartiles = df['Velocidad (m/s)'].quantile([0.25, 0.5, 0.75])\n",
    "percentil_90 = df['Velocidad (m/s)'].quantile(0.9)\n",
    "deciles = df['Velocidad (m/s)'].quantile([i/10 for i in range(1, 10)])\n",
    "\n",
    "print(f\"Cuartiles: {cuartiles}\")\n",
    "print(f\"Percentil 90: {percentil_90:.2f} m/s\")\n",
    "print(f\"Deciles: {deciles}\")\n"
   ]
  },
  {
   "cell_type": "markdown",
   "id": "8e99b603",
   "metadata": {},
   "source": [
    "### Medidas de dispersión de los datos\n",
    "\n",
    "Las medidas de dispersión nos indican cuán dispersos están los datos respecto a su media. Las más comunes son la **varianza** y la **desviación típica**. El **coeficiente de variación** expresa la dispersión relativa con respecto a la media.\n",
    "\n",
    "Pandas nos permite calcular estas medidas usando las funciones `.var()` para la varianza y `.std()` para la desviación típica.\n",
    "\n",
    "##### Ejemplo (continuación)"
   ]
  },
  {
   "cell_type": "code",
   "execution_count": null,
   "id": "0fa9e2aa",
   "metadata": {},
   "outputs": [],
   "source": [
    "\n",
    "# Cálculo de varianza, desviación típica y coeficiente de variación\n",
    "varianza = df['Velocidad (m/s)'].var()\n",
    "desviacion_tipica = df['Velocidad (m/s)'].std()\n",
    "coef_var = desviacion_tipica / media\n",
    "\n",
    "print(f\"Varianza: {varianza:.2f}\")\n",
    "print(f\"Desviación típica: {desviacion_tipica:.2f} m/s\")\n",
    "print(f\"Coeficiente de variación: {coef_var:.2f}\")\n"
   ]
  },
  {
   "cell_type": "markdown",
   "id": "9ddf8e32",
   "metadata": {},
   "source": [
    "### Medidas de forma de los datos\n",
    "\n",
    "La medidas de forma más comunmente empleadas son el **coeficiente de asimetría** y el **coeficiente de curtosis**. Para calcular ambos estadísticos debemos utilizar la biblioteca SciPy.\n",
    "\n",
    "##### Ejemplo (continuación)"
   ]
  },
  {
   "cell_type": "code",
   "execution_count": null,
   "id": "7934a37b",
   "metadata": {},
   "outputs": [],
   "source": [
    "\n",
    "# Para las medidas de forma usaremos SciPy\n",
    "from scipy.stats import skew, kurtosis\n",
    "\n",
    "asimetria = skew(df['Velocidad (m/s)'])\n",
    "curtosis = kurtosis(df['Velocidad (m/s)'])\n",
    "\n",
    "print(f\"Coeficiente de asimetría: {asimetria:.2f}\")\n",
    "print(f\"Coeficiente de curtosis: {curtosis:.2f}\")\n"
   ]
  },
  {
   "cell_type": "markdown",
   "id": "ec7287a1",
   "metadata": {},
   "source": [
    "## Visualización de datos\n",
    "\n",
    "A continuación, aprenderemos cómo crear diferentes tipos de gráficos a partir de datos almacenados en un **DataFrame** utilizando la biblioteca **matplotlib**.\n",
    "\n",
    "**Matplotlib** es una biblioteca de Python para la creación de gráficos estáticos, animados e interactivos. Es una de las herramientas más populares para la visualización de datos en Python. A continuación, veremos ejemplos de cómo hacer diagramas de barras, histogramas, polígonos de frecuencias y gráficos de series temporales.\n",
    "\n",
    "Aunque existen otras opciones, Matplotlib es la biblioteca estándar para la creación de gráficos en Python debido a su amplia funcionalidad y flexibilidad que la convierten en una herramienta esencial para la visualización de datos. \n",
    "\n",
    "##### Ejemplo básico de uso de Matplotlib:\n",
    "\n",
    "Para crear un gráfico básico de líneas, primero importas la biblioteca y luego puedes generar los gráficos utilizando el módulo `pyplot`:\n"
   ]
  },
  {
   "cell_type": "code",
   "execution_count": null,
   "id": "8589feac",
   "metadata": {},
   "outputs": [],
   "source": [
    "import matplotlib.pyplot as plt\n",
    "import numpy as np\n",
    "\n",
    "# Datos de ejemplo\n",
    "x = np.linspace(0, 10, 100)\n",
    "y = np.sin(x)\n",
    "\n",
    "# Crear el gráfico\n",
    "plt.plot(x, y)\n",
    "\n",
    "# Añadir etiquetas y título\n",
    "plt.xlabel('X-axis')\n",
    "plt.ylabel('Y-axis')\n",
    "plt.title('Sine Wave')\n",
    "\n",
    "# Mostrar el gráfico\n",
    "plt.show()"
   ]
  },
  {
   "cell_type": "markdown",
   "id": "36458983",
   "metadata": {},
   "source": [
    "Ahora vamos a ver cómo crear gráficos básico en estadística."
   ]
  },
  {
   "cell_type": "markdown",
   "id": "564ae6ab",
   "metadata": {},
   "source": [
    "#### Diagrama de barras\n",
    "\n",
    "Un **diagrama de barras** se utiliza para mostrar la frecuencia de valores categóricos o discretos. Vamos a crear un ejemplo usando los datos de varios materiales y su resistencia medida en experimentos.\n",
    "\n",
    "##### Ejemplo"
   ]
  },
  {
   "cell_type": "code",
   "execution_count": null,
   "id": "99a4f96a",
   "metadata": {},
   "outputs": [],
   "source": [
    "\n",
    "import pandas as pd\n",
    "import matplotlib.pyplot as plt\n",
    "\n",
    "# Crear DataFrame con datos de resistencia de materiales\n",
    "data = {'Material': ['Acero', 'Aluminio', 'Cobre', 'Plástico', 'Madera'],\n",
    "        'Resistencia (MPa)': [500, 150, 200, 50, 100]}\n",
    "df = pd.DataFrame(data)\n",
    "\n",
    "# Crear un diagrama de barras\n",
    "df.plot(kind='bar', x='Material', y='Resistencia (MPa)', legend=False)\n",
    "plt.title('Resistencia de materiales')\n",
    "plt.xlabel('Material')\n",
    "plt.ylabel('Resistencia (MPa)')\n",
    "plt.show()\n"
   ]
  },
  {
   "cell_type": "markdown",
   "id": "b031a629",
   "metadata": {},
   "source": [
    "#### Histograma\n",
    "\n",
    "Un **histograma** muestra la distribución de una variable continua, dividiendo los datos en intervalos (o bins) y mostrando la frecuencia de los datos dentro de cada intervalo.\n",
    "\n",
    "##### Ejemplo"
   ]
  },
  {
   "cell_type": "code",
   "execution_count": null,
   "id": "bd05c929",
   "metadata": {},
   "outputs": [],
   "source": [
    "\n",
    "# Crear DataFrame con datos de la velocidad de partículas en un experimento\n",
    "data = {'Velocidad (m/s)': [10, 10.1, 10.5, 10.8, 10.9, 11.4, 11.6, 12, 13.1, 15, 15.5, 16, 16.1, 16.2, 16.3, 16.8, 17.1, 18.4, 19, 19.8, 20, 21.4, 23, 23.5]}\n",
    "df = pd.DataFrame(data)\n",
    "\n",
    "# Crear un histograma\n",
    "df['Velocidad (m/s)'].plot(kind='hist', bins=5, edgecolor='black')\n",
    "plt.title('Histograma de velocidades de partículas')\n",
    "plt.xlabel('Velocidad (m/s)')\n",
    "plt.ylabel('Frecuencia')\n",
    "plt.show()"
   ]
  },
  {
   "cell_type": "markdown",
   "id": "8b992748",
   "metadata": {},
   "source": [
    "#### Polígono de frecuencias\n",
    "\n",
    "Un **polígono de frecuencias** es similar a un histograma, pero utiliza líneas para conectar los puntos correspondientes a las frecuencias de los datos. Es útil para ver la forma de la distribución de una variable continua.\n",
    "\n",
    "##### Ejemplo"
   ]
  },
  {
   "cell_type": "code",
   "execution_count": null,
   "id": "783b0435",
   "metadata": {},
   "outputs": [],
   "source": [
    "\n",
    "# Crear un DataFrame con datos continuos de temperaturas\n",
    "data = {'Temperatura (°C)': [15.1, 15.3, 15.6, 15.8, 16.0, 16.1, 16.3, 16.3, 16.4, 16.4, 16.4, 16.7, 16.9, 17.0, 17.1, 17.3, 17.5, 17.6, 17.7, 17.9, 18.0, 18.2, 18.3, 18.5]}\n",
    "df = pd.DataFrame(data)\n",
    "\n",
    "# Crear los \"bins\" o intervalos\n",
    "bins = [15, 15.5, 16, 16.5, 17, 17.5, 18, 18.5, 19]\n",
    "frequencias, bins_edges = pd.cut(df['Temperatura (°C)'], bins=bins, retbins=True)\n",
    "\n",
    "# Calcular la frecuencia de los datos en cada bin\n",
    "frecuencias_val = frequencias.value_counts(sort=False)\n",
    "\n",
    "# Obtener los puntos medios de cada intervalo (para la representación continua)\n",
    "bins_mid = [0.5 * (bins_edges[i] + bins_edges[i+1]) for i in range(len(bins_edges) - 1)]\n",
    "\n",
    "# Crear el polígono de frecuencias\n",
    "plt.plot(bins_mid, frecuencias_val, marker='o', linestyle='-')\n",
    "plt.title('Polígono de frecuencias de temperaturas continuas')\n",
    "plt.xlabel('Temperatura (°C)')\n",
    "plt.ylabel('Frecuencia')\n",
    "plt.grid(True)\n",
    "plt.show()\n"
   ]
  },
  {
   "cell_type": "markdown",
   "id": "00a9b8d2",
   "metadata": {},
   "source": [
    "### Gráfico de series temporales\n",
    "\n",
    "Un **gráfico de series temporales** muestra cómo varía una cantidad a lo largo del tiempo. Se utiliza para observar tendencias en datos que dependen del tiempo, como las temperaturas o las mediciones de sensores.\n",
    "\n",
    "##### Ejemplo"
   ]
  },
  {
   "cell_type": "code",
   "execution_count": null,
   "id": "e7eea939",
   "metadata": {},
   "outputs": [],
   "source": [
    "\n",
    "# Crear DataFrame con datos simulados de temperaturas medidas anualmente\n",
    "data = {'Año': list(range(2000, 2020)),\n",
    "        'Temperatura (°C)': [14.5, 14.7, 14.6, 14.8, 14.9, 15.0, 15.1, 15.3, 15.2, 15.4, 15.6, 15.7, 15.8, 16.0, 16.1, 16.3, 16.2, 16.4, 16.5, 16.6]}\n",
    "df = pd.DataFrame(data)\n",
    "\n",
    "# Crear un gráfico de series temporales\n",
    "plt.plot(df['Año'], df['Temperatura (°C)'], marker='o')\n",
    "plt.title('Serie temporal de temperaturas (2000-2019)')\n",
    "plt.xlabel('Año')\n",
    "plt.ylabel('Temperatura (°C)')\n",
    "plt.show()\n"
   ]
  },
  {
   "cell_type": "markdown",
   "id": "eb3245fb",
   "metadata": {},
   "source": [
    "## Ejercicios prácticos\n",
    "\n",
    "Estos ejercicios te permitirán poner en práctica los conceptos básicos de Python que hemos visto en el Laboratorio 2.\n",
    "\n",
    "### Ejercicio 1: Estadísticos principales sobre datos de acelaración de partículas\n",
    "\n",
    "Se ha realizado un experimento midiendo la aceleración de varias partículas (en m/s²) bajo distintas condiciones. A continuación, se proporciona una tabla con los resultados:\n",
    "\n",
    "| Partícula | Aceleración (m/s²) |\n",
    "|-----------|--------------------|\n",
    "| 1         | 3.5                |\n",
    "| 2         | 4.1                |\n",
    "| 3         | 3.8                |\n",
    "| 4         | 4.0                |\n",
    "| 5         | 3.9                |\n",
    "| 6         | 4.2                |\n",
    "| 7         | 3.7                |\n",
    "| 8         | 4.3                |\n",
    "| 9         | 3.6                |\n",
    "| 10        | 4.0                |\n",
    "\n",
    "Crea un DataFrame con estos datos y calcula:\n",
    "1. La media y mediana de las aceleraciones.\n",
    "2. Los cuartiles y deciles.\n",
    "3. La desviación típica y la varianza.\n",
    "\n",
    "### Ejercicio 2: Importar y graficar datos sobre proyectiles\n",
    "\n",
    "Se ha realizado un experimento para medir la velocidad de varios proyectiles (en m/s) y se ha clasificado el material de los proyectiles (plástico, metal, madera). Se pide:\n",
    "1. Importar los datos desde un archivo CSV llamado `proyectiles.csv`.\n",
    "2. Generar un gráfico de barras que muestre la frecuencia de cada tipo de material.\n",
    "3. Calcular la velocidad media de los proyectiles por tipo de material.\n",
    "\n",
    "### Ejercicio 3: Graficar datos sobre temperaturas medias\n",
    "\n",
    "Dispones de datos de temperaturas medidas anualmente desde 1900 hasta el 2000 en el archivo CSV llamado `temperaturas.csv`. Se te pide realizar lo siguiente:\n",
    "1. Calcular la media de las temperaturas para los años **antes de 1950** y para los años **desde 1950**.\n",
    "2. Graficar la evolución de las temperaturas a lo largo del tiempo como una serie temporal."
   ]
  }
 ],
 "metadata": {
  "kernelspec": {
   "display_name": "Python 3",
   "language": "python",
   "name": "python3"
  },
  "language_info": {
   "codemirror_mode": {
    "name": "ipython",
    "version": 3
   },
   "file_extension": ".py",
   "mimetype": "text/x-python",
   "name": "python",
   "nbconvert_exporter": "python",
   "pygments_lexer": "ipython3",
   "version": "3.12.5"
  }
 },
 "nbformat": 4,
 "nbformat_minor": 5
}
